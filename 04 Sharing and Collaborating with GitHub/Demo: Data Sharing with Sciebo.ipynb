{
  "cells": [
    {
      "cell_type": "markdown",
      "metadata": {},
      "source": [
        "# Data storage and exchange with sciebo\n",
        "\n",
        "Git is great at tracking changes in small (text) files, large binary\n",
        "files (e.g. data files) can not be tracked efficiently. A simple\n",
        "solution is to host you data in a separate cloud storage, outside of\n",
        "your Git repository. This allows us to store and share large data files\n",
        "while still using Git to track changes in our code.\n",
        "\n",
        "## 1 Sciebo\n",
        "\n",
        "If you are a student in North Rhine-Westphalia (NRW), you have access to\n",
        "[Sciebo](https://hochschulcloud.nrw/), a cloud service provided by the\n",
        "University of Muenster. Using Sciebo has several advantages:\n",
        "\n",
        "-   It’s free of charge\n",
        "-   Just login with you university mail and an account is automatically\n",
        "    generated\n",
        "-   Follows strict data protecion laws\n",
        "-   Feature rich (e.g. builtin text editor)\n",
        "\n",
        "## 2 Sharing Data via Sciebo\n",
        "\n",
        "To share a file, simply upload it to sciebo and creat\n",
        "\n",
        "## 3 Downloading shared data\n",
        "\n",
        "Then, you can either download it manually or programatically within your\n",
        "notebook"
      ],
      "id": "b12b5fc1-b5bb-4779-8e01-0646f850fbf1"
    },
    {
      "cell_type": "code",
      "execution_count": 1,
      "metadata": {},
      "outputs": [],
      "source": [
        "import requests\n",
        "\n",
        "url = \"https://uni-bonn.sciebo.de/s/qCHMHRKqfpmL8B4/download\"\n",
        "response = requests.get(url)\n",
        "\n",
        "with open(\"steinmetz_lfp.npz\", \"wb\") as file:\n",
        "    file.write(response.content)"
      ],
      "id": "ce626101"
    },
    {
      "cell_type": "markdown",
      "metadata": {},
      "source": [
        "## 4 Ignoring large files\n",
        "\n",
        "Git will detect that a new file was created and wait for you to commit\n",
        "it to the repository"
      ],
      "id": "8cf60c23-738a-4245-ad6b-8d8ee5437a25"
    },
    {
      "cell_type": "code",
      "execution_count": 2,
      "metadata": {},
      "outputs": [],
      "source": [
        "!git status"
      ],
      "id": "cbb036aa"
    },
    {
      "cell_type": "markdown",
      "metadata": {},
      "source": [
        "To prevent git from accidentally tracking this file, we can add it to\n",
        "`.gitignore`"
      ],
      "id": "5941f67b-da95-426f-87c7-59682212824f"
    }
  ],
  "nbformat": 4,
  "nbformat_minor": 5,
  "metadata": {
    "kernelspec": {
      "name": "python3",
      "display_name": "Python 3 (ipykernel)",
      "language": "python",
      "path": "/home/olebi/courses/Essential-Computer-Tools-for-Researchers/.venv/share/jupyter/kernels/python3"
    },
    "language_info": {
      "name": "python",
      "codemirror_mode": {
        "name": "ipython",
        "version": "3"
      },
      "file_extension": ".py",
      "mimetype": "text/x-python",
      "nbconvert_exporter": "python",
      "pygments_lexer": "ipython3",
      "version": "3.10.16"
    }
  }
}