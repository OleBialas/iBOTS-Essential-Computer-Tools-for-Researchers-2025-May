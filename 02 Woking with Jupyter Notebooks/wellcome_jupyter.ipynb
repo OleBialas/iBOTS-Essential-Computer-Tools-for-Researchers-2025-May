{
 "cells": [
  {
   "cell_type": "markdown",
   "id": "771236c0",
   "metadata": {},
   "source": [
    "# Wellcome to Jupyter\n",
    "\n",
    "This is a Jupyter notebook - it contains Text and code.\n",
    "To run the code, **select a kernel** as shown in the image below\n",
    "\n",
    "![Select Kernel](./images/select_kernel.png)"
   ]
  },
  {
   "cell_type": "markdown",
   "id": "a0022195",
   "metadata": {},
   "source": [
    "After selecting the kernel you can run a cell by clicking on the arrow on the left that appears when you hover over a code cell"
   ]
  },
  {
   "cell_type": "code",
   "execution_count": null,
   "id": "dbc8fb96",
   "metadata": {},
   "outputs": [],
   "source": [
    "import this"
   ]
  },
  {
   "cell_type": "code",
   "execution_count": null,
   "id": "955ec814",
   "metadata": {},
   "outputs": [],
   "source": [
    "print(\"Congrats, you just ran your first Jupyter Notebook!\")"
   ]
  }
 ],
 "metadata": {
  "kernelspec": {
   "display_name": "test_jupyter",
   "language": "python",
   "name": "python3"
  },
  "language_info": {
   "codemirror_mode": {
    "name": "ipython",
    "version": 3
   },
   "file_extension": ".py",
   "mimetype": "text/x-python",
   "name": "python",
   "nbconvert_exporter": "python",
   "pygments_lexer": "ipython3",
   "version": "3.13.3"
  }
 },
 "nbformat": 4,
 "nbformat_minor": 5
}
