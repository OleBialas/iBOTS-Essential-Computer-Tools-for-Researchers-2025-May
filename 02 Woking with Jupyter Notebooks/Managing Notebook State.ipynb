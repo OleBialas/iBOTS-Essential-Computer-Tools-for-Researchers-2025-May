{
 "cells": [
  {
   "cell_type": "markdown",
   "id": "a2e33ae7",
   "metadata": {},
   "source": [
    "# Manging the State of a Jupyer Notebook\n",
    "\n",
    "A Jupyter notebook keeps track of the state of all variables.\n",
    "To reset the notebook's state, click on the \"Restart\" button, highlighted in the image below.\n",
    "\n",
    "![Restart](./images/restart.png)"
   ]
  },
  {
   "cell_type": "code",
   "execution_count": null,
   "id": "c85b2bc1",
   "metadata": {},
   "outputs": [],
   "source": [
    "x = 1"
   ]
  },
  {
   "cell_type": "code",
   "execution_count": null,
   "id": "6e901007",
   "metadata": {},
   "outputs": [],
   "source": [
    "y = x + 2"
   ]
  },
  {
   "cell_type": "code",
   "execution_count": null,
   "id": "a6522699",
   "metadata": {},
   "outputs": [],
   "source": [
    "print(x+y)"
   ]
  }
 ],
 "metadata": {
  "kernelspec": {
   "display_name": "test_jupyter",
   "language": "python",
   "name": "python3"
  },
  "language_info": {
   "codemirror_mode": {
    "name": "ipython",
    "version": 3
   },
   "file_extension": ".py",
   "mimetype": "text/x-python",
   "name": "python",
   "nbconvert_exporter": "python",
   "pygments_lexer": "ipython3",
   "version": "3.13.3"
  }
 },
 "nbformat": 4,
 "nbformat_minor": 5
}
