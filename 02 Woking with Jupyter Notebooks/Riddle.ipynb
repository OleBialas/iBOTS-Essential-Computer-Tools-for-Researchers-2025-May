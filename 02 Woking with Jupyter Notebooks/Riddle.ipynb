{
 "cells": [
  {
   "cell_type": "markdown",
   "id": "3c5b7611",
   "metadata": {},
   "source": [
    "# A Riddle\n",
    "\n",
    "Oh no! A mischivous course instructor has scrambled the order of the code cells in this notebook. Find out the **correct order** in which the cells must be executed to run without errors!"
   ]
  },
  {
   "cell_type": "code",
   "execution_count": 3,
   "id": "68aaf36d",
   "metadata": {},
   "outputs": [],
   "source": [
    "z = y * 2"
   ]
  },
  {
   "cell_type": "code",
   "execution_count": null,
   "id": "1ee4db20",
   "metadata": {},
   "outputs": [],
   "source": [
    "print(f\"x={x}, y={y}, z={z}\")"
   ]
  },
  {
   "cell_type": "code",
   "execution_count": 1,
   "id": "23781fa5",
   "metadata": {},
   "outputs": [],
   "source": [
    "x = 3"
   ]
  },
  {
   "cell_type": "code",
   "execution_count": 2,
   "id": "32118b3c",
   "metadata": {},
   "outputs": [],
   "source": [
    "y = x - 5"
   ]
  }
 ],
 "metadata": {
  "kernelspec": {
   "display_name": "test_jupyter",
   "language": "python",
   "name": "python3"
  },
  "language_info": {
   "codemirror_mode": {
    "name": "ipython",
    "version": 3
   },
   "file_extension": ".py",
   "mimetype": "text/x-python",
   "name": "python",
   "nbconvert_exporter": "python",
   "pygments_lexer": "ipython3",
   "version": "3.13.3"
  }
 },
 "nbformat": 4,
 "nbformat_minor": 5
}
